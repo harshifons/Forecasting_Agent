{
 "cells": [
  {
   "cell_type": "markdown",
   "id": "a9843205",
   "metadata": {},
   "source": [
    "Chatbot for non-technical users for easy and quick interpretaion of Sales forecasts"
   ]
  },
  {
   "cell_type": "code",
   "execution_count": 1,
   "id": "8c5645c6",
   "metadata": {},
   "outputs": [
    {
     "data": {
      "text/plain": [
       "True"
      ]
     },
     "execution_count": 1,
     "metadata": {},
     "output_type": "execute_result"
    }
   ],
   "source": [
    "import pandas as pd\n",
    "import numpy as np\n",
    "from datetime import datetime, timedelta\n",
    "# import openai\n",
    "import os\n",
    "from dotenv import load_dotenv\n",
    "load_dotenv()"
   ]
  },
  {
   "cell_type": "code",
   "execution_count": 2,
   "id": "ea55c453",
   "metadata": {},
   "outputs": [],
   "source": [
    "import anthropic\n",
    "\n",
    "# Initialize Anthropic client\n",
    "client = anthropic.Anthropic(api_key=os.environ.get(\"ANTHROPIC_API_KEY\"))"
   ]
  },
  {
   "cell_type": "code",
   "execution_count": null,
   "id": "e009d0df",
   "metadata": {},
   "outputs": [],
   "source": [
    "# # Custom Tool: Aggregate tomorrow’s quantities\n",
    "\n",
    "def get_tomorrow_quantities(df, date_col=\"DATE\", qty_col=\"Predicted_Next_Purchase_Volume\", product_col=\"PRODUCT_ID\"):\n",
    "    \"\"\"\n",
    "    Filters the DataFrame for rows with date = 2024-12-31 (tomorrow),\n",
    "    then sums the Predicted_Next_Purchase_Volume per PRODUCT_ID. Returns a multi-line string.\n",
    "    \"\"\"\n",
    "    # Ensure the date column is datetime\n",
    "    df[date_col] = pd.to_datetime(df[date_col])\n",
    "    \n",
    "    # Considering “today” as December 30, 2024 (for testing purposes), so tomorrow = 2024-12-31\n",
    "    today = datetime(2024, 12, 30).date()\n",
    "    tomorrow = today + timedelta(days=1)\n",
    "    print(\"Tomorrow: \", tomorrow)\n",
    "    \n",
    "    # Filter rows where date == tomorrow\n",
    "    df_tomorrow = df[df[date_col].dt.date == tomorrow]\n",
    "    \n",
    "    if df_tomorrow.empty:\n",
    "        return f\"No sales data found for {tomorrow}.\"\n",
    "    \n",
    "    \n",
    "    # Aggregate (sum) quantities by product\n",
    "    summary = (\n",
    "        df_tomorrow\n",
    "        .groupby(product_col)[qty_col]\n",
    "        .sum()\n",
    "        .reset_index()\n",
    "    )\n",
    "    \n",
    "    print(\"Aggregated df shape:\", summary.shape)\n",
    "\n",
    "    # Build a multi-line string like: \"Product A: 120 units\\nProduct B: 75 units\"\n",
    "    lines = [\n",
    "        f\"Product {row[product_col]}: {row[qty_col]} units\"\n",
    "        for _, row in summary.iterrows()\n",
    "    ]\n",
    "    return \"\\n\".join(lines)"
   ]
  },
  {
   "cell_type": "code",
   "execution_count": null,
   "id": "cd0fce13",
   "metadata": {},
   "outputs": [],
   "source": [
    "# RAG Agent Function Definition\n",
    "# Build prompt & call Claude\n",
    "def rag_agent(csv_path):\n",
    "    \"\"\"\n",
    "    Loads sales CSV, aggregates quantities for 2024-12-31, and asks Claude\n",
    "    to generate concise stock recommendations.\n",
    "    \"\"\"\n",
    "    df = pd.read_csv(csv_path)\n",
    "    print(\"Loaded DF shape:\", df.shape)\n",
    "    \n",
    "    agg_info = get_tomorrow_quantities(\n",
    "        df,\n",
    "        date_col=\"DATE\",            \n",
    "        qty_col=\"Predicted_Next_Purchase_Volume\",\n",
    "        product_col=\"PRODUCT_ID\"\n",
    "    )\n",
    "\n",
    "    human_text = (\n",
    "        \"Below is the aggregated sales data for tomorrow (2024-12-31):\\n\"\n",
    "        f\"{agg_info}\\n\\n\"\n",
    "        \"User question: Which product quantities should be stocked tomorrow?\\n\"\n",
    "        \"Preserve the same line-by-line format in your answer. Round up all quantities to the nearest integer.\\n\"\n",
    "    )\n",
    "\n",
    "    response = client.messages.create(\n",
    "        model=\"claude-3-haiku-20240307\", \n",
    "        system=\"You are a retail demand forecasting assistant.\",\n",
    "        messages=[{\"role\": \"user\", \"content\": human_text}],\n",
    "        max_tokens=500\n",
    "    )\n",
    "\n",
    "    # Extract text from response (Claude returns a list of TextBlock objects)\n",
    "    blocks = response.content\n",
    "    if blocks and hasattr(blocks[0], \"text\"):\n",
    "        return blocks[0].text.strip()\n",
    "    else:\n",
    "        return \"Error: Unable to parse Claude’s response.\""
   ]
  },
  {
   "cell_type": "code",
   "execution_count": 7,
   "id": "4373ea6e",
   "metadata": {},
   "outputs": [
    {
     "name": "stdout",
     "output_type": "stream",
     "text": [
      "Loaded DF shape: (4627, 44)\n",
      "Tomorrow:  2024-12-31\n",
      "Aggregated df shape: (18, 2)\n",
      "Agent Response:\n",
      " Based on the provided sales data, here are the product quantities that should be stocked tomorrow:\n",
      "\n",
      "Product COCA COLA_250 ML: 10 units\n",
      "Product DASANI WATER_1000 ML: 10 units\n",
      "Product DASANI WATER_2250 ML: 17 units\n",
      "Product DASANI WATER_250 ML: 14 units\n",
      "Product DASANI WATER_300 ML: 19 units\n",
      "Product DASANI WATER_500 ML: 8 units\n",
      "Product DASANI WATER_750 ML: 9 units\n",
      "Product DOVE BODY WASH_100 ML: 19 units\n",
      "Product DOVE BODY WASH_1000 ML: 49 units\n",
      "Product KELLOGS CORN FLAKES_500 G: 23 units\n",
      "Product MOUNTAIN DEW_200 ML: 8 units\n",
      "Product MOUNTAIN DEW_250 ML: 9 units\n",
      "Product MOUNTAIN DEW_300 ML: 10 units\n",
      "Product MOUNTAIN DEW_750 ML: 12 units\n",
      "Product SPRITE_200 ML: 8 units\n",
      "Product SPRITE_2250 ML: 13 units\n",
      "Product SPRITE_300 ML: 9 units\n",
      "Product SPRITE_750 ML: 11 units\n"
     ]
    }
   ],
   "source": [
    "# Read forecasts\n",
    "if __name__ == \"__main__\":\n",
    "    csv_path = \"/Users/cypacyt/Documents/IAIAProject/data/train_df.csv\"\n",
    "    result = rag_agent(csv_path)\n",
    "    print(\"Agent Response:\\n\", result)\n"
   ]
  }
 ],
 "metadata": {
  "kernelspec": {
   "display_name": "env",
   "language": "python",
   "name": "python3"
  },
  "language_info": {
   "codemirror_mode": {
    "name": "ipython",
    "version": 3
   },
   "file_extension": ".py",
   "mimetype": "text/x-python",
   "name": "python",
   "nbconvert_exporter": "python",
   "pygments_lexer": "ipython3",
   "version": "3.12.3"
  }
 },
 "nbformat": 4,
 "nbformat_minor": 5
}
